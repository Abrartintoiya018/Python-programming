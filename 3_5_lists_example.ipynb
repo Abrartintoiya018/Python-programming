{
  "nbformat": 4,
  "nbformat_minor": 0,
  "metadata": {
    "colab": {
      "provenance": []
    },
    "kernelspec": {
      "name": "python3",
      "display_name": "Python 3"
    },
    "language_info": {
      "name": "python"
    }
  },
  "cells": [
    {
      "cell_type": "code",
      "execution_count": 1,
      "metadata": {
        "colab": {
          "base_uri": "https://localhost:8080/"
        },
        "id": "5ayVLt28fffs",
        "outputId": "4375ccad-9991-4f20-9484-9a04b47eda33"
      },
      "outputs": [
        {
          "output_type": "stream",
          "name": "stdout",
          "text": [
            "at 5 pm\n",
            "['wake up at 5', 'study', 'coding and practicle', 'GYm']\n"
          ]
        }
      ],
      "source": [
        "## make to do list using list\n",
        "to_do_list = [\"wake up at 5\",\"walking\",\"study\"]\n",
        "\n",
        "## adding\n",
        "to_do_list.append(\"coding and practicle\")\n",
        "to_do_list.append(\"GYm\")\n",
        "\n",
        "## remove\n",
        "to_do_list.remove(\"walking\")\n",
        "\n",
        "## checking\n",
        "if \"GYm\" in to_do_list:\n",
        "    print(\"at 5 pm\")\n",
        "\n",
        "\n",
        "print(to_do_list)"
      ]
    },
    {
      "cell_type": "code",
      "source": [
        "## organizing student grades\n",
        "\n",
        "grades = [45,67,89,99]\n",
        "\n",
        "##add new grad\n",
        "\n",
        "grades.append(56)\n",
        "\n",
        "##average\n",
        "average_grade = sum(grades)/len(grades)\n",
        "\n",
        "print(average_grade)\n",
        "\n",
        "##find high and low\n",
        "high_grade = max(grades)\n",
        "low_grade = min(grades)\n",
        "\n",
        "print(high_grade)\n",
        "print(low_grade)\n"
      ],
      "metadata": {
        "colab": {
          "base_uri": "https://localhost:8080/"
        },
        "id": "EUF5JUPcgoUE",
        "outputId": "d5e91e41-8632-4f64-c8ca-ec6c89571e93"
      },
      "execution_count": 3,
      "outputs": [
        {
          "output_type": "stream",
          "name": "stdout",
          "text": [
            "71.2\n",
            "99\n",
            "45\n"
          ]
        }
      ]
    },
    {
      "cell_type": "code",
      "source": [
        "## Managing inventory\n",
        "\n"
      ],
      "metadata": {
        "id": "mcQ1ygkeg7o6"
      },
      "execution_count": null,
      "outputs": []
    }
  ]
}