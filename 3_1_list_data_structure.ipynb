{
  "nbformat": 4,
  "nbformat_minor": 0,
  "metadata": {
    "colab": {
      "provenance": []
    },
    "kernelspec": {
      "name": "python3",
      "display_name": "Python 3"
    },
    "language_info": {
      "name": "python"
    }
  },
  "cells": [
    {
      "cell_type": "code",
      "execution_count": 24,
      "metadata": {
        "colab": {
          "base_uri": "https://localhost:8080/"
        },
        "id": "dunClWFfEx60",
        "outputId": "a7bd09b2-fc4c-40cf-d79a-0be8e6b1c3c1"
      },
      "outputs": [
        {
          "output_type": "stream",
          "name": "stdout",
          "text": [
            "<class 'list'>\n"
          ]
        }
      ],
      "source": [
        "## list\n",
        "lst = []\n",
        "print(type(lst))"
      ]
    },
    {
      "cell_type": "code",
      "source": [
        "names = [\"abrar\",\"mujib\",\"azhar\",\"sohil\",1 , 23,5.14, True ]\n",
        "print(names)"
      ],
      "metadata": {
        "colab": {
          "base_uri": "https://localhost:8080/"
        },
        "id": "q_RlMN_DFKbL",
        "outputId": "edf4729b-5938-49b0-91e3-711e6c1bca01"
      },
      "execution_count": 25,
      "outputs": [
        {
          "output_type": "stream",
          "name": "stdout",
          "text": [
            "['abrar', 'mujib', 'azhar', 'sohil', 1, 23, 5.14, True]\n"
          ]
        }
      ]
    },
    {
      "cell_type": "code",
      "source": [
        "## accesing elements\n",
        "fruits = [\"apple\",\"cherry\",\"kiwi\",\"orange\",\"mango\",\"gauva\"]\n"
      ],
      "metadata": {
        "id": "a8N4-8n0Fd2j"
      },
      "execution_count": 26,
      "outputs": []
    },
    {
      "cell_type": "code",
      "source": [
        "fruits[0]"
      ],
      "metadata": {
        "colab": {
          "base_uri": "https://localhost:8080/",
          "height": 36
        },
        "id": "y-eFDTpYFxO_",
        "outputId": "1452b028-d5cc-4285-8ea9-490d0ac04a33"
      },
      "execution_count": 27,
      "outputs": [
        {
          "output_type": "execute_result",
          "data": {
            "text/plain": [
              "'apple'"
            ],
            "application/vnd.google.colaboratory.intrinsic+json": {
              "type": "string"
            }
          },
          "metadata": {},
          "execution_count": 27
        }
      ]
    },
    {
      "cell_type": "code",
      "source": [
        "print(fruits[0:3])\n",
        "print(fruits[4])\n",
        "print(fruits[-2])"
      ],
      "metadata": {
        "colab": {
          "base_uri": "https://localhost:8080/"
        },
        "id": "PPqGN84GFza_",
        "outputId": "b2116aca-d7a7-41db-fbb1-491e70dcfeae"
      },
      "execution_count": 28,
      "outputs": [
        {
          "output_type": "stream",
          "name": "stdout",
          "text": [
            "['apple', 'cherry', 'kiwi']\n",
            "mango\n",
            "mango\n"
          ]
        }
      ]
    },
    {
      "cell_type": "code",
      "source": [
        "## modified\n",
        "fruits[2] = \"banana\"\n",
        "print(fruits)"
      ],
      "metadata": {
        "colab": {
          "base_uri": "https://localhost:8080/"
        },
        "id": "7auxVGqwGeKw",
        "outputId": "c0806913-f140-4c00-8292-abd8ae63593c"
      },
      "execution_count": 29,
      "outputs": [
        {
          "output_type": "stream",
          "name": "stdout",
          "text": [
            "['apple', 'cherry', 'banana', 'orange', 'mango', 'gauva']\n"
          ]
        }
      ]
    },
    {
      "cell_type": "code",
      "source": [
        "##problem\n",
        "fruits[1:] = \"watermalen\""
      ],
      "metadata": {
        "id": "-_4pi3zLG0I2"
      },
      "execution_count": 30,
      "outputs": []
    },
    {
      "cell_type": "code",
      "source": [
        "fruits"
      ],
      "metadata": {
        "colab": {
          "base_uri": "https://localhost:8080/"
        },
        "id": "2QfFh5oSG5AD",
        "outputId": "c06891ce-4946-4ffe-e24e-04cb8d3688c9"
      },
      "execution_count": 31,
      "outputs": [
        {
          "output_type": "execute_result",
          "data": {
            "text/plain": [
              "['apple', 'w', 'a', 't', 'e', 'r', 'm', 'a', 'l', 'e', 'n']"
            ]
          },
          "metadata": {},
          "execution_count": 31
        }
      ]
    },
    {
      "cell_type": "code",
      "source": [
        "\n",
        "fruits = [\"apple\",\"cherry\",\"kiwi\",\"orange\",\"mango\",\"gauva\"]\n"
      ],
      "metadata": {
        "id": "40IdL1RnHMln"
      },
      "execution_count": 32,
      "outputs": []
    },
    {
      "cell_type": "code",
      "source": [
        "## append\n",
        "fruits.append(\"banana\")"
      ],
      "metadata": {
        "id": "X4OwzWsUHONq"
      },
      "execution_count": 33,
      "outputs": []
    },
    {
      "cell_type": "code",
      "source": [
        "print(fruits)"
      ],
      "metadata": {
        "colab": {
          "base_uri": "https://localhost:8080/"
        },
        "id": "nlELDxJBHUAw",
        "outputId": "df015bff-a8aa-45d1-e35d-718194c37a02"
      },
      "execution_count": 34,
      "outputs": [
        {
          "output_type": "stream",
          "name": "stdout",
          "text": [
            "['apple', 'cherry', 'kiwi', 'orange', 'mango', 'gauva', 'banana']\n"
          ]
        }
      ]
    },
    {
      "cell_type": "code",
      "source": [
        "fruits.insert(1,\"watermalen\")\n",
        "print(fruits)"
      ],
      "metadata": {
        "colab": {
          "base_uri": "https://localhost:8080/"
        },
        "id": "LwKVSz-ZHVkZ",
        "outputId": "3785be66-fcad-4785-d8f7-1b115c3b3aea"
      },
      "execution_count": 35,
      "outputs": [
        {
          "output_type": "stream",
          "name": "stdout",
          "text": [
            "['apple', 'watermalen', 'cherry', 'kiwi', 'orange', 'mango', 'gauva', 'banana']\n"
          ]
        }
      ]
    },
    {
      "cell_type": "code",
      "source": [
        "fruits.remove(\"banana\")\n",
        "print(fruits)"
      ],
      "metadata": {
        "colab": {
          "base_uri": "https://localhost:8080/"
        },
        "id": "bLJH59E-HjYU",
        "outputId": "00968d71-3c35-44a5-89da-6a41147b0987"
      },
      "execution_count": 36,
      "outputs": [
        {
          "output_type": "stream",
          "name": "stdout",
          "text": [
            "['apple', 'watermalen', 'cherry', 'kiwi', 'orange', 'mango', 'gauva']\n"
          ]
        }
      ]
    },
    {
      "cell_type": "code",
      "source": [
        "## remove and return the last items\n",
        "fruits.pop()\n",
        "poped_fruits = fruits.pop()\n",
        "print(poped_fruits)\n",
        "print(fruits)"
      ],
      "metadata": {
        "colab": {
          "base_uri": "https://localhost:8080/"
        },
        "id": "pmejwXznHoEe",
        "outputId": "abc67ea1-d9d6-4e43-bcf6-87ca6a169985"
      },
      "execution_count": 38,
      "outputs": [
        {
          "output_type": "stream",
          "name": "stdout",
          "text": [
            "orange\n",
            "['apple', 'watermalen', 'cherry', 'kiwi']\n"
          ]
        }
      ]
    },
    {
      "cell_type": "code",
      "source": [
        "fruits.index(\"cherry\")"
      ],
      "metadata": {
        "colab": {
          "base_uri": "https://localhost:8080/"
        },
        "id": "ptzf5FtzIDAw",
        "outputId": "e1b9d43e-157e-4cb4-b967-3d69a50d6a04"
      },
      "execution_count": 39,
      "outputs": [
        {
          "output_type": "execute_result",
          "data": {
            "text/plain": [
              "2"
            ]
          },
          "metadata": {},
          "execution_count": 39
        }
      ]
    },
    {
      "cell_type": "code",
      "source": [
        "fruits.insert(2,\"banana\")\n",
        "fruits.insert(4,\"banana\")"
      ],
      "metadata": {
        "id": "3qUpussZIPqN"
      },
      "execution_count": 41,
      "outputs": []
    },
    {
      "cell_type": "code",
      "source": [
        "print(fruits.count(\"banana\"))"
      ],
      "metadata": {
        "colab": {
          "base_uri": "https://localhost:8080/"
        },
        "id": "MSkOkDhfIZZ7",
        "outputId": "df5c6e88-7da0-411a-c3ef-56821598fa00"
      },
      "execution_count": 42,
      "outputs": [
        {
          "output_type": "stream",
          "name": "stdout",
          "text": [
            "3\n"
          ]
        }
      ]
    },
    {
      "cell_type": "code",
      "source": [
        "print(fruits)"
      ],
      "metadata": {
        "colab": {
          "base_uri": "https://localhost:8080/"
        },
        "id": "tVrhn_soIj8P",
        "outputId": "9a90c0cc-060e-4d2b-b977-cec606128c5b"
      },
      "execution_count": 43,
      "outputs": [
        {
          "output_type": "stream",
          "name": "stdout",
          "text": [
            "['apple', 'watermalen', 'banana', 'banana', 'banana', 'cherry', 'kiwi']\n"
          ]
        }
      ]
    },
    {
      "cell_type": "code",
      "source": [
        "fruits.sort()"
      ],
      "metadata": {
        "id": "LQWi0PlmIocN"
      },
      "execution_count": 44,
      "outputs": []
    },
    {
      "cell_type": "code",
      "source": [
        "print(fruits)"
      ],
      "metadata": {
        "colab": {
          "base_uri": "https://localhost:8080/"
        },
        "id": "gAx0YeEnI6Aq",
        "outputId": "6246453f-6d73-4002-fbb2-1f84525a9ee0"
      },
      "execution_count": 45,
      "outputs": [
        {
          "output_type": "stream",
          "name": "stdout",
          "text": [
            "['apple', 'banana', 'banana', 'banana', 'cherry', 'kiwi', 'watermalen']\n"
          ]
        }
      ]
    },
    {
      "cell_type": "code",
      "source": [
        "fruits.reverse()"
      ],
      "metadata": {
        "id": "bv5q2j-sI9Z7"
      },
      "execution_count": 46,
      "outputs": []
    },
    {
      "cell_type": "code",
      "source": [
        "print(fruits)"
      ],
      "metadata": {
        "colab": {
          "base_uri": "https://localhost:8080/"
        },
        "id": "DBc06-4tJBkY",
        "outputId": "d2b3da38-6369-4985-d5aa-f2bb2e13315e"
      },
      "execution_count": 47,
      "outputs": [
        {
          "output_type": "stream",
          "name": "stdout",
          "text": [
            "['watermalen', 'kiwi', 'cherry', 'banana', 'banana', 'banana', 'apple']\n"
          ]
        }
      ]
    },
    {
      "cell_type": "code",
      "source": [
        "fruits.clear()"
      ],
      "metadata": {
        "id": "Te_XNVcqJC3H"
      },
      "execution_count": 48,
      "outputs": []
    },
    {
      "cell_type": "code",
      "source": [
        "fruits"
      ],
      "metadata": {
        "colab": {
          "base_uri": "https://localhost:8080/"
        },
        "id": "_DVXNMB0JIio",
        "outputId": "8cba6f2c-76a1-40bf-fd3a-8f5782431da5"
      },
      "execution_count": 49,
      "outputs": [
        {
          "output_type": "execute_result",
          "data": {
            "text/plain": [
              "[]"
            ]
          },
          "metadata": {},
          "execution_count": 49
        }
      ]
    },
    {
      "cell_type": "code",
      "source": [
        "## slicing list\n",
        "\n",
        "numbers = [1,2,3,4,5,6,7,8,9,10]\n",
        "print(numbers[2:5])\n",
        "print(numbers[:5])\n",
        "print(numbers[5:])\n",
        "print(numbers[::2])\n",
        "print(numbers[::-1])"
      ],
      "metadata": {
        "colab": {
          "base_uri": "https://localhost:8080/"
        },
        "id": "wZJMpeAFJJUZ",
        "outputId": "e8dd5aa2-cfb4-4897-b55a-13fd9e3bb0fa"
      },
      "execution_count": 51,
      "outputs": [
        {
          "output_type": "stream",
          "name": "stdout",
          "text": [
            "[3, 4, 5]\n",
            "[1, 2, 3, 4, 5]\n",
            "[6, 7, 8, 9, 10]\n",
            "[1, 3, 5, 7, 9]\n",
            "[10, 9, 8, 7, 6, 5, 4, 3, 2, 1]\n"
          ]
        }
      ]
    },
    {
      "cell_type": "code",
      "source": [
        "numbers[::]"
      ],
      "metadata": {
        "colab": {
          "base_uri": "https://localhost:8080/"
        },
        "id": "JhIXaHnJJStl",
        "outputId": "42130221-4fb6-4258-f988-c4d164a95aaa"
      },
      "execution_count": 52,
      "outputs": [
        {
          "output_type": "execute_result",
          "data": {
            "text/plain": [
              "[1, 2, 3, 4, 5, 6, 7, 8, 9, 10]"
            ]
          },
          "metadata": {},
          "execution_count": 52
        }
      ]
    },
    {
      "cell_type": "code",
      "source": [
        "print(numbers[::-2])"
      ],
      "metadata": {
        "colab": {
          "base_uri": "https://localhost:8080/"
        },
        "id": "sEgDe6CSJSoc",
        "outputId": "b1bd3761-e702-4e55-ab8c-b95a8445e43e"
      },
      "execution_count": 53,
      "outputs": [
        {
          "output_type": "stream",
          "name": "stdout",
          "text": [
            "[10, 8, 6, 4, 2]\n"
          ]
        }
      ]
    },
    {
      "cell_type": "code",
      "source": [
        "## iterating over list\n",
        "for number in numbers:\n",
        "    print(number)"
      ],
      "metadata": {
        "colab": {
          "base_uri": "https://localhost:8080/"
        },
        "id": "41dWkMEnJSnF",
        "outputId": "90578c0c-9979-40f9-ef93-fcdcb8d17697"
      },
      "execution_count": 54,
      "outputs": [
        {
          "output_type": "stream",
          "name": "stdout",
          "text": [
            "1\n",
            "2\n",
            "3\n",
            "4\n",
            "5\n",
            "6\n",
            "7\n",
            "8\n",
            "9\n",
            "10\n"
          ]
        }
      ]
    },
    {
      "cell_type": "code",
      "source": [
        "for index,number in enumerate(numbers):\n",
        "    print(index,number)"
      ],
      "metadata": {
        "colab": {
          "base_uri": "https://localhost:8080/"
        },
        "id": "dv4dPi4tKEdu",
        "outputId": "2a6f5a8a-63d2-4ab7-b6e6-0f823f899199"
      },
      "execution_count": 55,
      "outputs": [
        {
          "output_type": "stream",
          "name": "stdout",
          "text": [
            "0 1\n",
            "1 2\n",
            "2 3\n",
            "3 4\n",
            "4 5\n",
            "5 6\n",
            "6 7\n",
            "7 8\n",
            "8 9\n",
            "9 10\n"
          ]
        }
      ]
    },
    {
      "cell_type": "code",
      "source": [
        "## list comprehensive\n",
        "list = []\n",
        "for x in range(10):\n",
        "  list.append(x**2)\n",
        "print(list)"
      ],
      "metadata": {
        "colab": {
          "base_uri": "https://localhost:8080/"
        },
        "id": "B3uBE-HlKLid",
        "outputId": "0e4219e6-ae20-418a-e201-5a21aa3a1ac0"
      },
      "execution_count": 56,
      "outputs": [
        {
          "output_type": "stream",
          "name": "stdout",
          "text": [
            "[0, 1, 4, 9, 16, 25, 36, 49, 64, 81]\n"
          ]
        }
      ]
    },
    {
      "cell_type": "code",
      "source": [
        "[x**2 for x in range(10)]"
      ],
      "metadata": {
        "colab": {
          "base_uri": "https://localhost:8080/"
        },
        "id": "7gRxRTopKgmX",
        "outputId": "a3e3cd1c-e591-4bcb-c103-3440608061ff"
      },
      "execution_count": 57,
      "outputs": [
        {
          "output_type": "execute_result",
          "data": {
            "text/plain": [
              "[0, 1, 4, 9, 16, 25, 36, 49, 64, 81]"
            ]
          },
          "metadata": {},
          "execution_count": 57
        }
      ]
    },
    {
      "cell_type": "code",
      "source": [
        "## specific syntax\n",
        "[x**2 for x in range(10) if x%2==0]\n",
        "## [expression for item in iterable with conditional logic]\n"
      ],
      "metadata": {
        "colab": {
          "base_uri": "https://localhost:8080/"
        },
        "id": "DTVW-2qtK2mR",
        "outputId": "4e4e9ae9-243f-4eb8-8697-16b1e737e206"
      },
      "execution_count": 60,
      "outputs": [
        {
          "output_type": "execute_result",
          "data": {
            "text/plain": [
              "[0, 4, 16, 36, 64]"
            ]
          },
          "metadata": {},
          "execution_count": 60
        }
      ]
    },
    {
      "cell_type": "code",
      "source": [
        "square = [num**2 for num in range(10)]\n",
        "print(square)"
      ],
      "metadata": {
        "colab": {
          "base_uri": "https://localhost:8080/"
        },
        "id": "5_8P5JT2LEyc",
        "outputId": "9259f3ae-9238-4de3-a971-e02a18b16347"
      },
      "execution_count": 61,
      "outputs": [
        {
          "output_type": "stream",
          "name": "stdout",
          "text": [
            "[0, 1, 4, 9, 16, 25, 36, 49, 64, 81]\n"
          ]
        }
      ]
    },
    {
      "cell_type": "code",
      "source": [
        "even_number_square = [num**2 for num in range(10) if num%2 == 0]\n",
        "print(even_number_square)"
      ],
      "metadata": {
        "colab": {
          "base_uri": "https://localhost:8080/"
        },
        "id": "SwOkJLAvMnwe",
        "outputId": "61b68de1-91e2-485a-e5da-a7dac9dbfb57"
      },
      "execution_count": 62,
      "outputs": [
        {
          "output_type": "stream",
          "name": "stdout",
          "text": [
            "[0, 4, 16, 36, 64]\n"
          ]
        }
      ]
    },
    {
      "cell_type": "code",
      "source": [
        "#nested list comprehension\n",
        "[i*j for i in range(3) for j in range(3)]\n"
      ],
      "metadata": {
        "colab": {
          "base_uri": "https://localhost:8080/"
        },
        "id": "zRR8J_LxM4ZE",
        "outputId": "24d4a9a1-d65e-4be9-e080-5d918a99c044"
      },
      "execution_count": 63,
      "outputs": [
        {
          "output_type": "execute_result",
          "data": {
            "text/plain": [
              "[0, 0, 0, 0, 1, 2, 0, 2, 4]"
            ]
          },
          "metadata": {},
          "execution_count": 63
        }
      ]
    },
    {
      "cell_type": "code",
      "source": [
        "i = [1,2,3,4,5]\n",
        "j = [\"a\",\"b\",\"c\",\"d\",\"e\"]\n",
        "\n",
        "pair = [[a,b] for a in i for b in j]\n",
        "print(pair)\n",
        "\n"
      ],
      "metadata": {
        "colab": {
          "base_uri": "https://localhost:8080/"
        },
        "id": "ke6irQ2wNVTR",
        "outputId": "51a6a928-6dae-462e-942c-041c4098306d"
      },
      "execution_count": 66,
      "outputs": [
        {
          "output_type": "stream",
          "name": "stdout",
          "text": [
            "[[1, 'a'], [1, 'b'], [1, 'c'], [1, 'd'], [1, 'e'], [2, 'a'], [2, 'b'], [2, 'c'], [2, 'd'], [2, 'e'], [3, 'a'], [3, 'b'], [3, 'c'], [3, 'd'], [3, 'e'], [4, 'a'], [4, 'b'], [4, 'c'], [4, 'd'], [4, 'e'], [5, 'a'], [5, 'b'], [5, 'c'], [5, 'd'], [5, 'e']]\n"
          ]
        }
      ]
    },
    {
      "cell_type": "code",
      "source": [
        "## list comprehension\n",
        "words = [\"hello\",\"world\",\"python\",\"list\",\"comprehension\"]\n",
        "length = [len(word) for word in words]\n",
        "print(length)"
      ],
      "metadata": {
        "colab": {
          "base_uri": "https://localhost:8080/"
        },
        "id": "e-rqdfLCNzLx",
        "outputId": "a8660a4a-8cea-46f2-9829-c1e482034b4c"
      },
      "execution_count": 67,
      "outputs": [
        {
          "output_type": "stream",
          "name": "stdout",
          "text": [
            "[5, 5, 6, 4, 13]\n"
          ]
        }
      ]
    },
    {
      "cell_type": "code",
      "source": [
        "## else block for assingment\n"
      ],
      "metadata": {
        "id": "y8q7FHFNOe8o"
      },
      "execution_count": null,
      "outputs": []
    },
    {
      "cell_type": "code",
      "metadata": {
        "id": "11d78328",
        "outputId": "e5943138-1d1e-4939-bcc1-6246c32d1878",
        "colab": {
          "base_uri": "https://localhost:8080/"
        }
      },
      "source": [
        "# Using a ternary operator to achieve conditional assignment in a list comprehension\n",
        "# [expression_if_true if condition else expression_if_false for item in iterable]\n",
        "\n",
        "numbers = [1, 2, 3, 4, 5, 6, 7, 8, 9, 10]\n",
        "\n",
        "# Create a new list where even numbers are squared and odd numbers are kept as they are\n",
        "processed_numbers = [num**2 if num % 2 == 0 else num for num in numbers]\n",
        "\n",
        "print(processed_numbers)"
      ],
      "execution_count": 68,
      "outputs": [
        {
          "output_type": "stream",
          "name": "stdout",
          "text": [
            "[1, 4, 3, 16, 5, 36, 7, 64, 9, 100]\n"
          ]
        }
      ]
    },
    {
      "cell_type": "code",
      "source": [],
      "metadata": {
        "id": "6tb3Xg7cO74u"
      },
      "execution_count": null,
      "outputs": []
    }
  ]
}