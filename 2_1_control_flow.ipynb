{
  "cells": [
    {
      "cell_type": "code",
      "execution_count": 1,
      "id": "bf73f3f5",
      "metadata": {
        "colab": {
          "base_uri": "https://localhost:8080/"
        },
        "id": "bf73f3f5",
        "outputId": "8f27032b-c03f-44d0-c259-5f1fde4c44b3"
      },
      "outputs": [
        {
          "output_type": "stream",
          "name": "stdout",
          "text": [
            "You are eligible to vote\n"
          ]
        }
      ],
      "source": [
        "## if statment\n",
        "\n",
        "age = 20\n",
        "\n",
        "if age >= 18:\n",
        "    print(\"You are eligible to vote\")"
      ]
    },
    {
      "cell_type": "code",
      "execution_count": 2,
      "id": "cac59da0",
      "metadata": {
        "colab": {
          "base_uri": "https://localhost:8080/"
        },
        "id": "cac59da0",
        "outputId": "73488fdb-67c5-4d2f-d25e-2125954748cb"
      },
      "outputs": [
        {
          "output_type": "stream",
          "name": "stdout",
          "text": [
            "You are not eligible to vote\n"
          ]
        }
      ],
      "source": [
        "#else\n",
        "age = 16\n",
        "if age >= 18:\n",
        "    print(\"You are eligible to vote\")\n",
        "else:\n",
        "    print(\"You are not eligible to vote\")\n",
        "\n",
        "\n"
      ]
    },
    {
      "cell_type": "code",
      "execution_count": 3,
      "id": "39b96b44",
      "metadata": {
        "colab": {
          "base_uri": "https://localhost:8080/"
        },
        "id": "39b96b44",
        "outputId": "56a0a815-2b28-4f82-d660-7188a9eda4a1"
      },
      "outputs": [
        {
          "output_type": "stream",
          "name": "stdout",
          "text": [
            "you are an adult\n"
          ]
        }
      ],
      "source": [
        "#elif\n",
        "\n",
        "age = 20\n",
        "\n",
        "if age < 13:\n",
        "    print(\"You are a child\")\n",
        "elif age < 18:\n",
        "    print(\"you are a teenager\")\n",
        "else:\n",
        "    print(\"you are an adult\")"
      ]
    },
    {
      "cell_type": "code",
      "execution_count": 7,
      "id": "1d1ea597",
      "metadata": {
        "colab": {
          "base_uri": "https://localhost:8080/"
        },
        "id": "1d1ea597",
        "outputId": "933e2e71-0793-4d83-a989-fb3179f0e8cc"
      },
      "outputs": [
        {
          "output_type": "stream",
          "name": "stdout",
          "text": [
            "Enter a number:3\n",
            "the number is positive\n",
            "the number is odd\n"
          ]
        }
      ],
      "source": [
        "## Nested conditional statement\n",
        "\n",
        "num = int(input(\"Enter a number:\"))\n",
        "\n",
        "if num > 0:\n",
        "  print(\"the number is positive\")\n",
        "  if num%2==0:\n",
        "    print(\"the number is even\")\n",
        "  else:\n",
        "    print(\"the number is odd\")\n",
        "else:\n",
        "  print(\"the number is zero or negative\")"
      ]
    },
    {
      "cell_type": "code",
      "source": [
        "## leap year\n",
        "year = int(input(\"Enter a year:\"))\n",
        "if year%4==0:\n",
        "  if year%100==0:\n",
        "    if year%400==0:\n",
        "      print(year , \"is a leap year\")\n",
        "    else:\n",
        "      print(year, \"is not a leap year\")\n",
        "  else:\n",
        "    print(year, 'is a leap year')\n",
        "else:\n",
        "  print(year, 'is not a leap year')\n",
        "\n",
        "\n",
        "\n",
        "\n",
        ""
      ],
      "metadata": {
        "colab": {
          "base_uri": "https://localhost:8080/"
        },
        "id": "e664oADbzIGN",
        "outputId": "e6eb3472-9657-4fbc-a60b-efd42d29337a"
      },
      "id": "e664oADbzIGN",
      "execution_count": 10,
      "outputs": [
        {
          "output_type": "stream",
          "name": "stdout",
          "text": [
            "Enter a year:20\n",
            "20 is a leap year\n"
          ]
        }
      ]
    },
    {
      "cell_type": "code",
      "source": [
        "## Assingment simple calculater\n",
        "\n",
        "num1 = int(input(\"Enter a number:\"))\n",
        "num2 = int(input(\"Enter a number:\"))\n",
        "operator = input(\"Enter a operator(+,-,*,/):\")\n",
        "\n",
        "if operator == '+':\n",
        "  print(num1 + num2)\n",
        "elif operator == '-':\n",
        "  print(num1 - num2)\n",
        "elif operator == '*':\n",
        "  print(num1 * num2)\n",
        "elif operator == '/':\n",
        "  if num2 == 0:\n",
        "    print(\"Error: Division by zero\")\n",
        "  else:\n",
        "    print(num1 / num2)\n",
        "else:\n",
        "  print(\"Invalid operator\")\n",
        ""
      ],
      "metadata": {
        "colab": {
          "base_uri": "https://localhost:8080/"
        },
        "id": "6uxLuiJN1AhH",
        "outputId": "acd24943-75b7-48b4-fd2b-0847f033b8e3"
      },
      "id": "6uxLuiJN1AhH",
      "execution_count": 13,
      "outputs": [
        {
          "output_type": "stream",
          "name": "stdout",
          "text": [
            "Enter a number:90\n",
            "Enter a number:0\n",
            "Enter a operator(+,-,*,/):/\n",
            "Error: Division by zero\n"
          ]
        }
      ]
    },
    {
      "cell_type": "code",
      "source": [
        "## Assingment ticket price based on the age\n",
        "\n",
        "age = int(input(\"Enter your age:\"))\n",
        "is_student = input(\"Are you a student? (yes/no):\").lower()\n",
        "\n",
        "if age < 5:\n",
        "  price = \"Free\"\n",
        "  print(\"Your ticket price is:\", price)\n",
        "elif age >= 5 and age <= 12:\n",
        "  price = \"$10\"\n",
        "  print(\"Your ticket price is:\", price)\n",
        "elif age >= 13 and age <= 64:\n",
        "  price = \"$20\"\n",
        "  print(\"Your ticket price is:\", price)\n",
        "else:\n",
        "  if is_student == \"yes\":\n",
        "    price = \"$10\"\n",
        "\n",
        "\n",
        "\n"
      ],
      "metadata": {
        "colab": {
          "base_uri": "https://localhost:8080/"
        },
        "id": "0-bVw8X718QI",
        "outputId": "eb007ddc-ee15-4d99-bc59-0f6744801d99"
      },
      "id": "0-bVw8X718QI",
      "execution_count": 14,
      "outputs": [
        {
          "output_type": "stream",
          "name": "stdout",
          "text": [
            "Enter your age:20\n",
            "Are you a student? (yes/no):no\n",
            "Your ticket price is: $20\n"
          ]
        }
      ]
    },
    {
      "cell_type": "code",
      "source": [],
      "metadata": {
        "id": "qUVJPBwL25FD"
      },
      "id": "qUVJPBwL25FD",
      "execution_count": null,
      "outputs": []
    }
  ],
  "metadata": {
    "kernelspec": {
      "display_name": "Python 3",
      "language": "python",
      "name": "python3"
    },
    "language_info": {
      "codemirror_mode": {
        "name": "ipython",
        "version": 3
      },
      "file_extension": ".py",
      "mimetype": "text/x-python",
      "name": "python",
      "nbconvert_exporter": "python",
      "pygments_lexer": "ipython3",
      "version": "3.10.4"
    },
    "colab": {
      "provenance": []
    }
  },
  "nbformat": 4,
  "nbformat_minor": 5
}