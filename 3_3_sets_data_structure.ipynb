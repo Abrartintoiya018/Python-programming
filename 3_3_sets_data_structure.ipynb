{
  "nbformat": 4,
  "nbformat_minor": 0,
  "metadata": {
    "colab": {
      "provenance": []
    },
    "kernelspec": {
      "name": "python3",
      "display_name": "Python 3"
    },
    "language_info": {
      "name": "python"
    }
  },
  "cells": [
    {
      "cell_type": "code",
      "execution_count": 2,
      "metadata": {
        "colab": {
          "base_uri": "https://localhost:8080/"
        },
        "id": "L8WB3kb-Q29z",
        "outputId": "9aa56145-e538-41a0-fe5d-bc32c88fdf75"
      },
      "outputs": [
        {
          "output_type": "stream",
          "name": "stdout",
          "text": [
            "<class 'set'>\n",
            "{1, 2, 3, 4, 5}\n"
          ]
        }
      ],
      "source": [
        "##\n",
        "my_set = {1,2,3,4,5}\n",
        "print(type(my_set))\n",
        "print(my_set)"
      ]
    },
    {
      "cell_type": "code",
      "source": [
        "my_empty_set = set()\n",
        "print(type(my_empty_set))\n",
        "print(my_empty_set)"
      ],
      "metadata": {
        "colab": {
          "base_uri": "https://localhost:8080/"
        },
        "id": "ccXVzuaVRPaR",
        "outputId": "1512ad41-09b5-49c9-8e2f-15e09a291003"
      },
      "execution_count": 3,
      "outputs": [
        {
          "output_type": "stream",
          "name": "stdout",
          "text": [
            "<class 'set'>\n",
            "set()\n"
          ]
        }
      ]
    },
    {
      "cell_type": "code",
      "source": [
        "my_set = {1,2,3,4,5,6,1,7,8,9,4,6,8,4,5,5}"
      ],
      "metadata": {
        "id": "6QSAWBKyRaTa"
      },
      "execution_count": 6,
      "outputs": []
    },
    {
      "cell_type": "code",
      "source": [
        "print(my_set)"
      ],
      "metadata": {
        "colab": {
          "base_uri": "https://localhost:8080/"
        },
        "id": "Iz45nicDRmIP",
        "outputId": "ed305743-5cc5-4171-a676-f1a0543647e5"
      },
      "execution_count": 7,
      "outputs": [
        {
          "output_type": "stream",
          "name": "stdout",
          "text": [
            "{1, 2, 3, 4, 5, 6, 7, 8, 9}\n"
          ]
        }
      ]
    },
    {
      "cell_type": "code",
      "source": [
        "## basic set operation\n",
        "## adding and removing\n",
        "my_set = {1,2,3,4,5}\n",
        "my_set.add(6)\n",
        "print(my_set)"
      ],
      "metadata": {
        "colab": {
          "base_uri": "https://localhost:8080/"
        },
        "id": "PWMbHTCdRn2P",
        "outputId": "f33b1817-69c1-4156-a1a7-ed3fd57db7a9"
      },
      "execution_count": 8,
      "outputs": [
        {
          "output_type": "stream",
          "name": "stdout",
          "text": [
            "{1, 2, 3, 4, 5, 6}\n"
          ]
        }
      ]
    },
    {
      "cell_type": "code",
      "source": [
        "## remove\n",
        "my_set.remove(6)\n",
        "print(my_set)"
      ],
      "metadata": {
        "colab": {
          "base_uri": "https://localhost:8080/"
        },
        "id": "BrPwGbPARznt",
        "outputId": "daa7e2d9-051d-46f6-e5c1-be572e1b4ae2"
      },
      "execution_count": 9,
      "outputs": [
        {
          "output_type": "stream",
          "name": "stdout",
          "text": [
            "{1, 2, 3, 4, 5}\n"
          ]
        }
      ]
    },
    {
      "cell_type": "code",
      "source": [
        "my_set.discard(11)"
      ],
      "metadata": {
        "id": "haMR6glsR2q1"
      },
      "execution_count": 10,
      "outputs": []
    },
    {
      "cell_type": "code",
      "source": [
        "## pop method\n",
        "removed_element = my_set.pop()\n",
        "print(removed_element)\n"
      ],
      "metadata": {
        "colab": {
          "base_uri": "https://localhost:8080/"
        },
        "id": "A1UwDPOuSTgW",
        "outputId": "c69af547-d5cb-4784-a8cd-c56b98251a2a"
      },
      "execution_count": 14,
      "outputs": [
        {
          "output_type": "stream",
          "name": "stdout",
          "text": [
            "4\n"
          ]
        }
      ]
    },
    {
      "cell_type": "code",
      "source": [
        "## clear\n",
        "my_set.clear()\n",
        "print(my_set)"
      ],
      "metadata": {
        "colab": {
          "base_uri": "https://localhost:8080/"
        },
        "id": "22zejzueSXz2",
        "outputId": "1f5bdaf0-83fe-4e53-d91a-4bf30d69b72b"
      },
      "execution_count": 16,
      "outputs": [
        {
          "output_type": "stream",
          "name": "stdout",
          "text": [
            "set()\n"
          ]
        }
      ]
    },
    {
      "cell_type": "code",
      "source": [
        "## set membership test\n",
        "\n",
        "my_set = {1,2,3,4,5}\n",
        "print(1 in my_set)\n",
        "print(6 in my_set)"
      ],
      "metadata": {
        "colab": {
          "base_uri": "https://localhost:8080/"
        },
        "id": "pRDPO3plSm6x",
        "outputId": "ebd37e80-22e3-44ce-db39-54e991c75787"
      },
      "execution_count": 17,
      "outputs": [
        {
          "output_type": "stream",
          "name": "stdout",
          "text": [
            "True\n",
            "False\n"
          ]
        }
      ]
    },
    {
      "cell_type": "code",
      "source": [
        "## methamaticle operation\n",
        "set1={1,2,3,4,5}\n",
        "set2={4,5,6,7,8}\n",
        "\n",
        "##union\n",
        "union_set = set1.union(set2)\n",
        "print(union_set)\n",
        "\n",
        "## intersaction\n",
        "intersection_set = set1.intersection(set2)\n",
        "print(intersection_set)\n",
        "\n",
        "## difference\n",
        "difference_set = set1.difference(set2)\n",
        "print(difference_set)\n"
      ],
      "metadata": {
        "colab": {
          "base_uri": "https://localhost:8080/"
        },
        "id": "Tzt3xtskSuEa",
        "outputId": "a884d7aa-710e-4414-89c5-d2e1f5b783b1"
      },
      "execution_count": 22,
      "outputs": [
        {
          "output_type": "stream",
          "name": "stdout",
          "text": [
            "{1, 2, 3, 4, 5, 6, 7, 8}\n",
            "{4, 5}\n",
            "{1, 2, 3}\n"
          ]
        }
      ]
    },
    {
      "cell_type": "code",
      "source": [
        "set1.intersection_update(set2)\n",
        "print(set1)"
      ],
      "metadata": {
        "colab": {
          "base_uri": "https://localhost:8080/"
        },
        "id": "VVACDqNDTEnV",
        "outputId": "22c28361-b195-4e17-fe55-34fc27a0e522"
      },
      "execution_count": 21,
      "outputs": [
        {
          "output_type": "stream",
          "name": "stdout",
          "text": [
            "{4, 5}\n"
          ]
        }
      ]
    },
    {
      "cell_type": "code",
      "source": [
        "print(set2.difference(set1))"
      ],
      "metadata": {
        "colab": {
          "base_uri": "https://localhost:8080/"
        },
        "id": "kRaMpAc5Tl5t",
        "outputId": "587d7cc3-e328-49c2-d5a2-a02f6837e6a5"
      },
      "execution_count": 23,
      "outputs": [
        {
          "output_type": "stream",
          "name": "stdout",
          "text": [
            "{8, 6, 7}\n"
          ]
        }
      ]
    },
    {
      "cell_type": "code",
      "source": [
        "set2.difference_update(set1)\n",
        "print(set2)"
      ],
      "metadata": {
        "colab": {
          "base_uri": "https://localhost:8080/"
        },
        "id": "jY1Q50cvUEZe",
        "outputId": "f5c49a28-c8f3-4e65-ad68-2252526b5479"
      },
      "execution_count": 24,
      "outputs": [
        {
          "output_type": "stream",
          "name": "stdout",
          "text": [
            "{6, 7, 8}\n"
          ]
        }
      ]
    },
    {
      "cell_type": "code",
      "source": [
        "## symetri difference\n",
        "set2={4,5,6,7,8}\n",
        "set1={1,2,3,4,5}\n",
        "set1.symmetric_difference(set2)\n"
      ],
      "metadata": {
        "colab": {
          "base_uri": "https://localhost:8080/"
        },
        "id": "-8F1VTPmUJ1W",
        "outputId": "5ecfcc38-fb61-430c-d5f5-22e4cc37b1af"
      },
      "execution_count": 28,
      "outputs": [
        {
          "output_type": "execute_result",
          "data": {
            "text/plain": [
              "{1, 2, 3, 6, 7, 8}"
            ]
          },
          "metadata": {},
          "execution_count": 28
        }
      ]
    },
    {
      "cell_type": "code",
      "source": [
        "## sets method\n",
        "set1 = {1,2,3}\n",
        "set2 = {1,2,3,4,5}\n",
        "print(set1.issubset(set2))\n",
        "print(set2.issuperset(set1))\n",
        "print(set1.isdisjoint(set2))"
      ],
      "metadata": {
        "colab": {
          "base_uri": "https://localhost:8080/"
        },
        "id": "kXbWyG-UUViv",
        "outputId": "c928360e-659d-4133-9f5f-20c0756c5955"
      },
      "execution_count": 29,
      "outputs": [
        {
          "output_type": "stream",
          "name": "stdout",
          "text": [
            "True\n",
            "True\n",
            "False\n"
          ]
        }
      ]
    },
    {
      "cell_type": "code",
      "source": [
        "### task\n",
        "\n",
        "lt = [1,2,3,3,4,5,5,6]\n",
        "set(lt)\n",
        "\n"
      ],
      "metadata": {
        "colab": {
          "base_uri": "https://localhost:8080/"
        },
        "id": "lBtetsvGUvOz",
        "outputId": "49dac8e1-130c-40f5-9e9c-64dfdc8d37da"
      },
      "execution_count": 30,
      "outputs": [
        {
          "output_type": "execute_result",
          "data": {
            "text/plain": [
              "{1, 2, 3, 4, 5, 6}"
            ]
          },
          "metadata": {},
          "execution_count": 30
        }
      ]
    },
    {
      "cell_type": "code",
      "source": [
        "## counting unit word in text\n",
        "\n",
        "text = \"in this tutorial we are discussing project\"\n",
        "\n",
        "words = text.split()\n",
        "print(words)\n",
        "unique_words = set(words)\n",
        "print(unique_words)\n",
        "word_count = len(unique_words)\n",
        "print(word_count)\n",
        "\n"
      ],
      "metadata": {
        "colab": {
          "base_uri": "https://localhost:8080/"
        },
        "id": "P0rpAoZGVQO_",
        "outputId": "9775b66e-fe1c-4cd7-9aa8-d5744a1b5a1d"
      },
      "execution_count": 32,
      "outputs": [
        {
          "output_type": "stream",
          "name": "stdout",
          "text": [
            "['in', 'this', 'tutorial', 'we', 'are', 'discussing', 'project']\n",
            "{'in', 'discussing', 'project', 'are', 'we', 'tutorial', 'this'}\n",
            "7\n"
          ]
        }
      ]
    },
    {
      "cell_type": "code",
      "source": [],
      "metadata": {
        "id": "79ZaL0sfVlyq"
      },
      "execution_count": null,
      "outputs": []
    }
  ]
}