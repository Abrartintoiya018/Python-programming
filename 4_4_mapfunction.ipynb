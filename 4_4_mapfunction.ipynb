{
 "cells": [
  {
   "cell_type": "code",
   "execution_count": 3,
   "id": "32ccd4fa-8197-41ae-90ca-58513bc6c309",
   "metadata": {},
   "outputs": [
    {
     "data": {
      "text/plain": [
       "1156"
      ]
     },
     "execution_count": 3,
     "metadata": {},
     "output_type": "execute_result"
    }
   ],
   "source": [
    "def square(x):\n",
    "    return x**2\n",
    "\n",
    "square(34)"
   ]
  },
  {
   "cell_type": "code",
   "execution_count": 4,
   "id": "9eb70d47-bdfb-43fe-8924-15211f11b32c",
   "metadata": {},
   "outputs": [
    {
     "data": {
      "text/plain": [
       "[1, 4, 9, 16, 25, 36, 49, 64, 81, 100]"
      ]
     },
     "execution_count": 4,
     "metadata": {},
     "output_type": "execute_result"
    }
   ],
   "source": [
    "## map\n",
    "numbers=[1,2,3,4,5,6,7,8,9,10]\n",
    "\n",
    "list(map(square,numbers))"
   ]
  },
  {
   "cell_type": "code",
   "execution_count": 6,
   "id": "407ffcaf-18cc-4449-9a92-1f6632373cf1",
   "metadata": {},
   "outputs": [
    {
     "data": {
      "text/plain": [
       "[1, 8, 27, 64, 125, 216, 343, 512, 729]"
      ]
     },
     "execution_count": 6,
     "metadata": {},
     "output_type": "execute_result"
    }
   ],
   "source": [
    "## lamda function with map\n",
    "\n",
    "numbers = [1,2,3,4,5,6,7,8,9]\n",
    "list(map(lambda x:x**3,numbers))\n"
   ]
  },
  {
   "cell_type": "code",
   "execution_count": 9,
   "id": "88bc84a2-a6f8-409f-ab6c-9b2ebb0b3322",
   "metadata": {},
   "outputs": [],
   "source": [
    "## map multiple iterables\n",
    "\n",
    "numbers1 = [1,2,3]\n",
    "numbers2 = [4,5,6]\n",
    "\n",
    "adde_num = list(map(lambda x,y:x+y,numbers1,numbers2))"
   ]
  },
  {
   "cell_type": "code",
   "execution_count": 10,
   "id": "aa5f0ad6-fa37-43e8-ae90-841e9a3aa097",
   "metadata": {},
   "outputs": [
    {
     "name": "stdout",
     "output_type": "stream",
     "text": [
      "[5, 7, 9]\n"
     ]
    }
   ],
   "source": [
    "print(adde_num)"
   ]
  },
  {
   "cell_type": "code",
   "execution_count": 11,
   "id": "aa4fb466-7a44-4980-b504-a4e9c7417fec",
   "metadata": {},
   "outputs": [],
   "source": [
    "## type casting\n",
    "\n",
    "str_num = ['1','2','3','4']\n",
    "int_num = list(map(int,str_num))"
   ]
  },
  {
   "cell_type": "code",
   "execution_count": 12,
   "id": "53ba7206-1852-4209-8880-8604bf15d9d6",
   "metadata": {},
   "outputs": [
    {
     "name": "stdout",
     "output_type": "stream",
     "text": [
      "[1, 2, 3, 4]\n"
     ]
    }
   ],
   "source": [
    "print(int_num)"
   ]
  },
  {
   "cell_type": "code",
   "execution_count": 13,
   "id": "97c416dc-58eb-4f20-8d71-e42d4b261f4b",
   "metadata": {},
   "outputs": [],
   "source": [
    "words=[\"apple\",\"banan\",\"mango\"]\n",
    "\n",
    "upper_words = list(map(str.upper,words))"
   ]
  },
  {
   "cell_type": "code",
   "execution_count": 14,
   "id": "fe2d466e-ba3b-4474-9bef-62971cffa893",
   "metadata": {},
   "outputs": [
    {
     "name": "stdout",
     "output_type": "stream",
     "text": [
      "['APPLE', 'BANAN', 'MANGO']\n"
     ]
    }
   ],
   "source": [
    "print(upper_words)"
   ]
  },
  {
   "cell_type": "code",
   "execution_count": 15,
   "id": "d15c89fa-f781-49bc-af71-5f36eebef245",
   "metadata": {},
   "outputs": [
    {
     "data": {
      "text/plain": [
       "['ab', 'bc']"
      ]
     },
     "execution_count": 15,
     "metadata": {},
     "output_type": "execute_result"
    }
   ],
   "source": [
    "def get_name(person):\n",
    "    return person[\"name\"]\n",
    "people = [\n",
    "    {\"name\":\"ab\",\"age\":23},\n",
    "    {\"name\":\"bc\",\"age\":34}\n",
    "]\n",
    "list(map(get_name,people))\n",
    "\n",
    "\n"
   ]
  },
  {
   "cell_type": "code",
   "execution_count": null,
   "id": "1909aae5-721e-4dda-93b4-36200ffbaac2",
   "metadata": {},
   "outputs": [],
   "source": []
  }
 ],
 "metadata": {
  "kernelspec": {
   "display_name": "Python 3 (ipykernel)",
   "language": "python",
   "name": "python3"
  },
  "language_info": {
   "codemirror_mode": {
    "name": "ipython",
    "version": 3
   },
   "file_extension": ".py",
   "mimetype": "text/x-python",
   "name": "python",
   "nbconvert_exporter": "python",
   "pygments_lexer": "ipython3",
   "version": "3.12.7"
  }
 },
 "nbformat": 4,
 "nbformat_minor": 5
}
