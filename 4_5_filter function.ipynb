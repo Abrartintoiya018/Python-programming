{
 "cells": [
  {
   "cell_type": "code",
   "execution_count": 13,
   "id": "af64e9a3-a968-4898-bf99-cdc3ccf5039c",
   "metadata": {},
   "outputs": [
    {
     "name": "stdout",
     "output_type": "stream",
     "text": [
      "True\n"
     ]
    }
   ],
   "source": [
    "def even(num):\n",
    "    if num%2==0:\n",
    "        return True\n",
    "print(even(56))\n",
    "    \n"
   ]
  },
  {
   "cell_type": "code",
   "execution_count": 14,
   "id": "4acc0a3e-a6f5-42c8-a262-d43ec50e7311",
   "metadata": {},
   "outputs": [
    {
     "data": {
      "text/plain": [
       "[2, 34, 6, 8]"
      ]
     },
     "execution_count": 14,
     "metadata": {},
     "output_type": "execute_result"
    }
   ],
   "source": [
    "lst = [1,2,34,5,6,7,8,87]\n",
    "list(filter(even,lst))\n"
   ]
  },
  {
   "cell_type": "code",
   "execution_count": 17,
   "id": "d0720d04-8a62-445d-a2dd-fc884c6a81ab",
   "metadata": {},
   "outputs": [
    {
     "data": {
      "text/plain": [
       "[6, 8]"
      ]
     },
     "execution_count": 17,
     "metadata": {},
     "output_type": "execute_result"
    }
   ],
   "source": [
    "## filter with a lamda function\n",
    "numbers = [1,2,3,4,5,6,7,8]\n",
    "list(filter(lambda x:x>5 and x%2 == 0,numbers))"
   ]
  },
  {
   "cell_type": "code",
   "execution_count": 18,
   "id": "572c42ee-27f8-403c-9601-d7ae7c0688ab",
   "metadata": {},
   "outputs": [
    {
     "data": {
      "text/plain": [
       "[{'name': 'abrar', 'age': 32}]"
      ]
     },
     "execution_count": 18,
     "metadata": {},
     "output_type": "execute_result"
    }
   ],
   "source": [
    "def age(person):\n",
    "    return person[\"age\"]>25\n",
    "\n",
    "people =[\n",
    "{\"name\":\"abrar\",\"age\":32},\n",
    "{\"name\":\"bro\",\"age\":12},\n",
    "{\"name\":\"abrtor\",\"age\":23}\n",
    "]\n",
    "\n",
    "list(filter(age,people))\n"
   ]
  },
  {
   "cell_type": "code",
   "execution_count": null,
   "id": "12d03662-7cb9-4ab2-be58-90f9d230cd42",
   "metadata": {},
   "outputs": [],
   "source": []
  }
 ],
 "metadata": {
  "kernelspec": {
   "display_name": "Python 3 (ipykernel)",
   "language": "python",
   "name": "python3"
  },
  "language_info": {
   "codemirror_mode": {
    "name": "ipython",
    "version": 3
   },
   "file_extension": ".py",
   "mimetype": "text/x-python",
   "name": "python",
   "nbconvert_exporter": "python",
   "pygments_lexer": "ipython3",
   "version": "3.12.7"
  }
 },
 "nbformat": 4,
 "nbformat_minor": 5
}
