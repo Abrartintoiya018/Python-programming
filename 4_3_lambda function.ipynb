{
 "cells": [
  {
   "cell_type": "code",
   "execution_count": 2,
   "id": "80e60e55-c0e0-43c7-ac74-a4193580995b",
   "metadata": {},
   "outputs": [
    {
     "data": {
      "text/plain": [
       "<function __main__.<lambda>(arguments)>"
      ]
     },
     "execution_count": 2,
     "metadata": {},
     "output_type": "execute_result"
    }
   ],
   "source": [
    "## syntax\n",
    "lambda arguments : expression\n"
   ]
  },
  {
   "cell_type": "code",
   "execution_count": 5,
   "id": "0e3a9561-d4e7-4387-97a1-6e0d91a224ab",
   "metadata": {},
   "outputs": [
    {
     "data": {
      "text/plain": [
       "65"
      ]
     },
     "execution_count": 5,
     "metadata": {},
     "output_type": "execute_result"
    }
   ],
   "source": [
    "def addition(a,b):\n",
    "    return a + b\n",
    "\n",
    "\n",
    "addition(20,45)"
   ]
  },
  {
   "cell_type": "code",
   "execution_count": 6,
   "id": "d1b85d57-d8ec-45f1-a302-b93fdbd19706",
   "metadata": {},
   "outputs": [
    {
     "name": "stdout",
     "output_type": "stream",
     "text": [
      "79\n"
     ]
    },
    {
     "data": {
      "text/plain": [
       "function"
      ]
     },
     "execution_count": 6,
     "metadata": {},
     "output_type": "execute_result"
    }
   ],
   "source": [
    "## lambda\n",
    "addition = lambda a,b:a+b\n",
    "print(addition(34,45))\n",
    "type(addition)"
   ]
  },
  {
   "cell_type": "code",
   "execution_count": 7,
   "id": "e6f69b77-25a4-4601-b450-cdafc0c7ff80",
   "metadata": {},
   "outputs": [
    {
     "name": "stdout",
     "output_type": "stream",
     "text": [
      "True\n"
     ]
    }
   ],
   "source": [
    "## even\n",
    "even1 = lambda num:num%2==0\n",
    "\n",
    "print(even1(34))"
   ]
  },
  {
   "cell_type": "code",
   "execution_count": 8,
   "id": "a03f354b-f19a-4a01-b22c-6fb3572f8d12",
   "metadata": {},
   "outputs": [
    {
     "data": {
      "text/plain": [
       "6"
      ]
     },
     "execution_count": 8,
     "metadata": {},
     "output_type": "execute_result"
    }
   ],
   "source": [
    "## three number addition\n",
    "\n",
    "addition = lambda x,y,z:x+y+z\n",
    "\n",
    "addition(1,2,3)"
   ]
  },
  {
   "cell_type": "code",
   "execution_count": 10,
   "id": "efefcd63-6e24-430a-94fb-adb3037e3cf4",
   "metadata": {},
   "outputs": [
    {
     "data": {
      "text/plain": [
       "81"
      ]
     },
     "execution_count": 10,
     "metadata": {},
     "output_type": "execute_result"
    }
   ],
   "source": [
    "## map and fiter basic\n",
    "numbers = [1,2,3,4,5,6]\n",
    "def square(number):\n",
    "    return number**2\n",
    "square(9)"
   ]
  },
  {
   "cell_type": "code",
   "execution_count": 13,
   "id": "340e4f02-a28b-4cef-ae58-42ad8649db59",
   "metadata": {},
   "outputs": [
    {
     "data": {
      "text/plain": [
       "[1, 4, 9, 16, 25, 36]"
      ]
     },
     "execution_count": 13,
     "metadata": {},
     "output_type": "execute_result"
    }
   ],
   "source": [
    "## map\n",
    "list(map(lambda x:x**2,numbers))\n"
   ]
  },
  {
   "cell_type": "code",
   "execution_count": null,
   "id": "2e9044a6-9356-46e0-aba7-0e92f0ba00ed",
   "metadata": {},
   "outputs": [],
   "source": []
  }
 ],
 "metadata": {
  "kernelspec": {
   "display_name": "Python 3 (ipykernel)",
   "language": "python",
   "name": "python3"
  },
  "language_info": {
   "codemirror_mode": {
    "name": "ipython",
    "version": 3
   },
   "file_extension": ".py",
   "mimetype": "text/x-python",
   "name": "python",
   "nbconvert_exporter": "python",
   "pygments_lexer": "ipython3",
   "version": "3.12.7"
  }
 },
 "nbformat": 4,
 "nbformat_minor": 5
}
