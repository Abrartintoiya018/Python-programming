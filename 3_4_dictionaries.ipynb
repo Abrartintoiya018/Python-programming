{
  "nbformat": 4,
  "nbformat_minor": 0,
  "metadata": {
    "colab": {
      "provenance": []
    },
    "kernelspec": {
      "name": "python3",
      "display_name": "Python 3"
    },
    "language_info": {
      "name": "python"
    }
  },
  "cells": [
    {
      "cell_type": "code",
      "execution_count": 3,
      "metadata": {
        "colab": {
          "base_uri": "https://localhost:8080/"
        },
        "id": "cYpbg3u8VykN",
        "outputId": "00b84313-ff95-45d8-8680-7634361c2aa9"
      },
      "outputs": [
        {
          "output_type": "stream",
          "name": "stdout",
          "text": [
            "{}\n",
            "<class 'dict'>\n",
            "{}\n",
            "<class 'dict'>\n"
          ]
        }
      ],
      "source": [
        "## creatin dictonary\n",
        "empty_dict={}\n",
        "print(empty_dict)\n",
        "print(type(empty_dict))\n",
        "\n",
        "empty_dict=dict()\n",
        "print(empty_dict)\n",
        "print(type(empty_dict))\n",
        "\n"
      ]
    },
    {
      "cell_type": "code",
      "source": [
        "## key value pair\n",
        "student = {\"name\":\"abrar\",\"age\":32,\"grad\":24}\n",
        "print(student)\n",
        "print(type(student))"
      ],
      "metadata": {
        "colab": {
          "base_uri": "https://localhost:8080/"
        },
        "id": "qapNBEwHWX32",
        "outputId": "b9111487-f547-4c5f-d3db-5175767c22cd"
      },
      "execution_count": 6,
      "outputs": [
        {
          "output_type": "stream",
          "name": "stdout",
          "text": [
            "{'name': 'abrar', 'age': 32, 'grad': 24}\n",
            "<class 'dict'>\n"
          ]
        }
      ]
    },
    {
      "cell_type": "code",
      "source": [
        "student = {\"name\":\"abrar\",\"age\":32,\"name\":24}\n",
        "print(student)"
      ],
      "metadata": {
        "colab": {
          "base_uri": "https://localhost:8080/"
        },
        "id": "xcSnnOTGWzz5",
        "outputId": "d0df01a4-5c66-4e70-d9ef-eda988eb918a"
      },
      "execution_count": 8,
      "outputs": [
        {
          "output_type": "stream",
          "name": "stdout",
          "text": [
            "{'name': 24, 'age': 32}\n"
          ]
        }
      ]
    },
    {
      "cell_type": "code",
      "source": [
        "student = {\"name\":\"abrar\",\"age\":32,\"grad\":\"A\"}\n",
        "print(student['name'])\n"
      ],
      "metadata": {
        "colab": {
          "base_uri": "https://localhost:8080/"
        },
        "id": "pHuilSdnXEvQ",
        "outputId": "3151cfd1-6325-4c7e-f39c-3dab59b8eabe"
      },
      "execution_count": 9,
      "outputs": [
        {
          "output_type": "stream",
          "name": "stdout",
          "text": [
            "abrar\n"
          ]
        }
      ]
    },
    {
      "cell_type": "code",
      "source": [
        "## accessing using get() method\n",
        "student = {\"name\":\"abrar\",\"age\":32,\"grad\":\"A\"}\n",
        "print(student.get('name'))\n",
        "print(student.get('agea'))\n",
        "print(student.get('last_name',\"Na\"))"
      ],
      "metadata": {
        "colab": {
          "base_uri": "https://localhost:8080/"
        },
        "id": "Vd8vpA94XWfq",
        "outputId": "8d28ba8a-77eb-452c-f33d-07e8e1ecbee3"
      },
      "execution_count": 12,
      "outputs": [
        {
          "output_type": "stream",
          "name": "stdout",
          "text": [
            "abrar\n",
            "None\n",
            "Na\n"
          ]
        }
      ]
    },
    {
      "cell_type": "code",
      "source": [
        "## modifying dictionary elements\n",
        "student = {\"name\":\"abrar\",\"age\":32,\"grad\":\"A\"}\n",
        "print(student)\n",
        "##update\n",
        "student['age']=33\n",
        "print(student)\n",
        "## add\n",
        "student['last_name']='khan'\n",
        "print(student)\n",
        "## delete\n",
        "del student['grad']\n",
        "print(student)\n",
        "\n"
      ],
      "metadata": {
        "colab": {
          "base_uri": "https://localhost:8080/"
        },
        "id": "N3IIiZDvXr6W",
        "outputId": "34dfd4dd-61a1-42a2-f059-367e6d4b5771"
      },
      "execution_count": 16,
      "outputs": [
        {
          "output_type": "stream",
          "name": "stdout",
          "text": [
            "{'name': 'abrar', 'age': 32, 'grad': 'A'}\n",
            "{'name': 'abrar', 'age': 33, 'grad': 'A'}\n",
            "{'name': 'abrar', 'age': 33, 'grad': 'A', 'last_name': 'khan'}\n",
            "{'name': 'abrar', 'age': 33, 'last_name': 'khan'}\n"
          ]
        }
      ]
    },
    {
      "cell_type": "code",
      "source": [
        "## Dictionary mehtods\n",
        "\n",
        "##keys\n",
        "student = {\"name\":\"abrar\",\"age\":32,\"grad\":\"A\"}\n",
        "print(student.keys())\n",
        "##values\n",
        "print(student.values())\n",
        "##items\n",
        "print(student.items())"
      ],
      "metadata": {
        "colab": {
          "base_uri": "https://localhost:8080/"
        },
        "id": "vSMxXCXlYOdb",
        "outputId": "1fa7b9f9-b484-491e-8d06-fd59a876752e"
      },
      "execution_count": 17,
      "outputs": [
        {
          "output_type": "stream",
          "name": "stdout",
          "text": [
            "dict_keys(['name', 'age', 'grad'])\n",
            "dict_values(['abrar', 32, 'A'])\n",
            "dict_items([('name', 'abrar'), ('age', 32), ('grad', 'A')])\n"
          ]
        }
      ]
    },
    {
      "cell_type": "code",
      "source": [
        "## shallow copy\n",
        "student_copy =student\n",
        "print(student_copy)\n",
        "student_copy['name']='ali'\n",
        "print(student_copy)\n",
        "print(student)"
      ],
      "metadata": {
        "colab": {
          "base_uri": "https://localhost:8080/"
        },
        "id": "TvOSefqFY-78",
        "outputId": "65c72d3d-af25-4631-96c2-255076bc9545"
      },
      "execution_count": 18,
      "outputs": [
        {
          "output_type": "stream",
          "name": "stdout",
          "text": [
            "{'name': 'abrar', 'age': 32, 'grad': 'A'}\n",
            "{'name': 'ali', 'age': 32, 'grad': 'A'}\n",
            "{'name': 'ali', 'age': 32, 'grad': 'A'}\n"
          ]
        }
      ]
    },
    {
      "cell_type": "code",
      "source": [
        "student_copy1 =student.copy()\n",
        "print(student_copy1)\n",
        "student['name']='abrar'\n",
        "print(student_copy1)\n",
        "print(student)"
      ],
      "metadata": {
        "colab": {
          "base_uri": "https://localhost:8080/"
        },
        "id": "UcJKi2wpZdup",
        "outputId": "521e92b2-2aa6-4903-f903-6ecae43daf64"
      },
      "execution_count": 26,
      "outputs": [
        {
          "output_type": "stream",
          "name": "stdout",
          "text": [
            "{'name': 'mujib', 'age': 32, 'grad': 'A'}\n",
            "{'name': 'mujib', 'age': 32, 'grad': 'A'}\n",
            "{'name': 'abrar', 'age': 32, 'grad': 'A'}\n"
          ]
        }
      ]
    },
    {
      "cell_type": "code",
      "source": [
        "## iterating method Dictionary\n",
        "\n",
        "student = {\"name\":\"abrar\",\"age\":32,\"grad\":\"A\"}\n",
        "for key in student:\n",
        "    print(key)"
      ],
      "metadata": {
        "colab": {
          "base_uri": "https://localhost:8080/"
        },
        "id": "Vf_Tej3PZlii",
        "outputId": "ca5d64f4-03e0-4f69-e7c7-bc56708e979e"
      },
      "execution_count": 27,
      "outputs": [
        {
          "output_type": "stream",
          "name": "stdout",
          "text": [
            "name\n",
            "age\n",
            "grad\n"
          ]
        }
      ]
    },
    {
      "cell_type": "code",
      "source": [
        "## for value\n",
        "student = {\"name\":\"abrar\",\"age\":32,\"grad\":\"A\"}\n",
        "for value in student.values():\n",
        "    print(value)\n"
      ],
      "metadata": {
        "colab": {
          "base_uri": "https://localhost:8080/"
        },
        "id": "KDcehr1CagM7",
        "outputId": "708acd09-e773-4437-c973-7c82c6c3e8af"
      },
      "execution_count": 28,
      "outputs": [
        {
          "output_type": "stream",
          "name": "stdout",
          "text": [
            "abrar\n",
            "32\n",
            "A\n"
          ]
        }
      ]
    },
    {
      "cell_type": "code",
      "source": [
        "## for item\n",
        "student = {\"name\":\"abrar\",\"age\":32,\"grad\":\"A\"}\n",
        "for item in student.items():\n",
        "    print(item)"
      ],
      "metadata": {
        "colab": {
          "base_uri": "https://localhost:8080/"
        },
        "id": "JAFei1KdapEm",
        "outputId": "67916301-1633-40c3-83fe-20a5cf861763"
      },
      "execution_count": 29,
      "outputs": [
        {
          "output_type": "stream",
          "name": "stdout",
          "text": [
            "('name', 'abrar')\n",
            "('age', 32)\n",
            "('grad', 'A')\n"
          ]
        }
      ]
    },
    {
      "cell_type": "code",
      "source": [
        "## Nested disctionaries\n",
        "student ={\n",
        "    \"Student1\":\n",
        "    {\n",
        "        \"name\":\"abrar\",\n",
        "        \"age\":32\n",
        "    },\n",
        "    \"Student2\":\n",
        "    {\n",
        "        \"name\":\"ali\",\n",
        "        \"age\":33\n",
        "    }\n",
        "}\n",
        "print(student)\n",
        "\n"
      ],
      "metadata": {
        "colab": {
          "base_uri": "https://localhost:8080/"
        },
        "id": "5tVy2i7Ias4t",
        "outputId": "d6a1a210-7bd7-43a5-a46d-ddcebe46a1f5"
      },
      "execution_count": 30,
      "outputs": [
        {
          "output_type": "stream",
          "name": "stdout",
          "text": [
            "{'Student1': {'name': 'abrar', 'age': 32}, 'Student2': {'name': 'ali', 'age': 33}}\n"
          ]
        }
      ]
    },
    {
      "cell_type": "code",
      "source": [
        "print(student['Student1'])\n",
        "print(student['Student1']['name'])"
      ],
      "metadata": {
        "colab": {
          "base_uri": "https://localhost:8080/"
        },
        "id": "xyLgrXG3bNrW",
        "outputId": "892b1872-ebee-4bd2-ee1a-bf069e18ec85"
      },
      "execution_count": 32,
      "outputs": [
        {
          "output_type": "stream",
          "name": "stdout",
          "text": [
            "{'name': 'abrar', 'age': 32}\n",
            "abrar\n"
          ]
        }
      ]
    },
    {
      "cell_type": "code",
      "source": [
        "## Iterating over nested dictionaries\n",
        "\n",
        "for student_id,student_info in student.items():\n",
        "    print(\"\\nStudent ID:\",student_id)\n",
        "    for key in student_info:\n",
        "        print(key+':',student_info[key])"
      ],
      "metadata": {
        "colab": {
          "base_uri": "https://localhost:8080/"
        },
        "id": "riAbx04SbTRk",
        "outputId": "2fea9b37-cc5f-4fef-d226-c6b8093aa562"
      },
      "execution_count": 34,
      "outputs": [
        {
          "output_type": "stream",
          "name": "stdout",
          "text": [
            "\n",
            "Student ID: Student1\n",
            "name: abrar\n",
            "age: 32\n",
            "\n",
            "Student ID: Student2\n",
            "name: ali\n",
            "age: 33\n"
          ]
        }
      ]
    },
    {
      "cell_type": "code",
      "source": [
        "## Dictionary Comprehension\n",
        "squares={num:num**2 for num in range(1,11)}\n",
        "print(squares)"
      ],
      "metadata": {
        "colab": {
          "base_uri": "https://localhost:8080/"
        },
        "id": "fvytWWiQbnXH",
        "outputId": "72c286dd-d44d-49ae-f688-467b92805426"
      },
      "execution_count": 35,
      "outputs": [
        {
          "output_type": "stream",
          "name": "stdout",
          "text": [
            "{1: 1, 2: 4, 3: 9, 4: 16, 5: 25, 6: 36, 7: 49, 8: 64, 9: 81, 10: 100}\n"
          ]
        }
      ]
    },
    {
      "cell_type": "code",
      "source": [
        "## conditions\n",
        "squares={num:num**2 for num in range(1,11) if num%2==0}\n",
        "print(squares)\n"
      ],
      "metadata": {
        "colab": {
          "base_uri": "https://localhost:8080/"
        },
        "id": "8y4JE7Scc25t",
        "outputId": "b17ffca4-9ad3-4366-d98d-82dd9d47b72b"
      },
      "execution_count": 36,
      "outputs": [
        {
          "output_type": "stream",
          "name": "stdout",
          "text": [
            "{2: 4, 4: 16, 6: 36, 8: 64, 10: 100}\n"
          ]
        }
      ]
    },
    {
      "cell_type": "code",
      "source": [
        "## practicle example\n",
        "\n",
        "## use a dictionary to count the frequency of elements in list\n",
        "\n",
        "numbers = [1,2,2,3,3,3,4,4,4,4,5,5,5]\n",
        "frequency={num:numbers.count(num) for num in numbers}\n",
        "print(frequency)"
      ],
      "metadata": {
        "colab": {
          "base_uri": "https://localhost:8080/"
        },
        "id": "GRPHqXQWdJnG",
        "outputId": "e6773433-78e6-42d1-995d-4d97dcdb27b7"
      },
      "execution_count": 38,
      "outputs": [
        {
          "output_type": "stream",
          "name": "stdout",
          "text": [
            "{1: 1, 2: 2, 3: 3, 4: 4, 5: 3}\n"
          ]
        }
      ]
    },
    {
      "cell_type": "code",
      "source": [
        "frequency={}\n",
        "for num in numbers:\n",
        "    frequency[num]=numbers.count(num)\n",
        "print(frequency)\n"
      ],
      "metadata": {
        "colab": {
          "base_uri": "https://localhost:8080/"
        },
        "id": "G8EbhXM9eJoh",
        "outputId": "64965d61-7536-4342-e390-7cbb86aa60f4"
      },
      "execution_count": 39,
      "outputs": [
        {
          "output_type": "stream",
          "name": "stdout",
          "text": [
            "{1: 1, 2: 2, 3: 3, 4: 4, 5: 3}\n"
          ]
        }
      ]
    },
    {
      "cell_type": "code",
      "source": [
        "## merge 2 dictionaries into one\n",
        "\n",
        "dict1 = {'a':1,'b':2}\n",
        "dict2 = {'c':3,'d':4}\n",
        "dict1.update(dict2)\n",
        "print(dict1)"
      ],
      "metadata": {
        "colab": {
          "base_uri": "https://localhost:8080/"
        },
        "id": "RaimYXWTerO2",
        "outputId": "73ec3ed0-538d-410f-9d7a-66eeaaf07968"
      },
      "execution_count": 40,
      "outputs": [
        {
          "output_type": "stream",
          "name": "stdout",
          "text": [
            "{'a': 1, 'b': 2, 'c': 3, 'd': 4}\n"
          ]
        }
      ]
    },
    {
      "cell_type": "code",
      "source": [
        "dict1 = {'a':1,'b':2}\n",
        "dict2 = {'c':3,'d':4}\n",
        "merged_dict={**dict1,**dict2}\n",
        "print(merged_dict)"
      ],
      "metadata": {
        "colab": {
          "base_uri": "https://localhost:8080/"
        },
        "id": "07MeFrEWe2wK",
        "outputId": "487a7abc-8aff-4513-d742-0198bad32859"
      },
      "execution_count": 41,
      "outputs": [
        {
          "output_type": "stream",
          "name": "stdout",
          "text": [
            "{'a': 1, 'b': 2, 'c': 3, 'd': 4}\n"
          ]
        }
      ]
    },
    {
      "cell_type": "code",
      "source": [],
      "metadata": {
        "id": "TcisRKalfLrM"
      },
      "execution_count": null,
      "outputs": []
    }
  ]
}