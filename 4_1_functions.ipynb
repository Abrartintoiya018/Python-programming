{
  "nbformat": 4,
  "nbformat_minor": 0,
  "metadata": {
    "colab": {
      "provenance": []
    },
    "kernelspec": {
      "name": "python3",
      "display_name": "Python 3"
    },
    "language_info": {
      "name": "python"
    }
  },
  "cells": [
    {
      "cell_type": "code",
      "execution_count": 5,
      "metadata": {
        "id": "gX4Kzm5LksgH"
      },
      "outputs": [],
      "source": [
        "## functions\n",
        "\n",
        "def function_name(parameters):\n",
        "  \"\"\"DOCSTRING\"\"\"\n",
        "  #Function body\n",
        "  return expression"
      ]
    },
    {
      "cell_type": "code",
      "source": [
        "def even_or_odd(num):\n",
        "  \"\"\"This function finds even or odd\"\"\"\n",
        "  if num % 2 == 0:\n",
        "    print(\"the number is even\")\n",
        "  else:\n",
        "    print(\"the number is odd\")"
      ],
      "metadata": {
        "id": "GJK-fxellicD"
      },
      "execution_count": 6,
      "outputs": []
    },
    {
      "cell_type": "code",
      "source": [
        "## call this function\n",
        "even_or_odd(20)"
      ],
      "metadata": {
        "colab": {
          "base_uri": "https://localhost:8080/"
        },
        "id": "hzRkvh4VmOjD",
        "outputId": "339176bb-ba35-4fef-88dd-e4e666ee4b7c"
      },
      "execution_count": 7,
      "outputs": [
        {
          "output_type": "stream",
          "name": "stdout",
          "text": [
            "the number is even\n"
          ]
        }
      ]
    },
    {
      "cell_type": "code",
      "source": [
        "even_or_odd(21)"
      ],
      "metadata": {
        "colab": {
          "base_uri": "https://localhost:8080/"
        },
        "id": "yzF2L60QmYRr",
        "outputId": "5ba8861c-beb1-40e1-ae36-6fae4adec363"
      },
      "execution_count": 8,
      "outputs": [
        {
          "output_type": "stream",
          "name": "stdout",
          "text": [
            "the number is odd\n"
          ]
        }
      ]
    },
    {
      "cell_type": "code",
      "source": [
        "## function with multiple parameters\n",
        "def add_numbers(num1, num2):\n",
        "  \"\"\"This function adds two numbers\"\"\"\n",
        "  sum = num1 + num2\n",
        "  return sum\n",
        "\n"
      ],
      "metadata": {
        "id": "LzOwerkGmaUi"
      },
      "execution_count": 9,
      "outputs": []
    },
    {
      "cell_type": "code",
      "source": [
        "add_numbers(23,45)"
      ],
      "metadata": {
        "colab": {
          "base_uri": "https://localhost:8080/"
        },
        "id": "LvY4J0_bqynL",
        "outputId": "6a16d56e-b026-4506-9c60-4bcc0ded7c2a"
      },
      "execution_count": 10,
      "outputs": [
        {
          "output_type": "execute_result",
          "data": {
            "text/plain": [
              "68"
            ]
          },
          "metadata": {},
          "execution_count": 10
        }
      ]
    },
    {
      "cell_type": "code",
      "source": [
        "## default parameters\n",
        "def add_numbers(num1, num2=10):\n",
        "  \"\"\"This function adds two numbers\"\"\"\n",
        "  sum = num1 + num2\n",
        "  return sum\n",
        "\n"
      ],
      "metadata": {
        "id": "w2zCcT8Bq1Uw"
      },
      "execution_count": 11,
      "outputs": []
    },
    {
      "cell_type": "code",
      "source": [
        "add_numbers(20,20)"
      ],
      "metadata": {
        "colab": {
          "base_uri": "https://localhost:8080/"
        },
        "id": "NjgOE8bssW3c",
        "outputId": "349b7f5f-bdee-4d56-9f54-11127c06c181"
      },
      "execution_count": 13,
      "outputs": [
        {
          "output_type": "execute_result",
          "data": {
            "text/plain": [
              "40"
            ]
          },
          "metadata": {},
          "execution_count": 13
        }
      ]
    },
    {
      "cell_type": "code",
      "source": [
        "## variable length argument\n",
        "##positional and keyword argument\n",
        "\n",
        "def print_number(*args):\n",
        "  for numbers in args:\n",
        "    print(numbers)"
      ],
      "metadata": {
        "id": "WhKGeLeMsaW0"
      },
      "execution_count": 14,
      "outputs": []
    },
    {
      "cell_type": "code",
      "source": [
        "print_number(10,20,30,40,\"abrar\")"
      ],
      "metadata": {
        "colab": {
          "base_uri": "https://localhost:8080/"
        },
        "id": "WLoZ-PvetJsY",
        "outputId": "6679de8e-5fb8-4ac5-96b8-330b97711902"
      },
      "execution_count": 15,
      "outputs": [
        {
          "output_type": "stream",
          "name": "stdout",
          "text": [
            "10\n",
            "20\n",
            "30\n",
            "40\n",
            "abrar\n"
          ]
        }
      ]
    },
    {
      "cell_type": "code",
      "source": [
        "##keyword argument\\\n",
        "def print_number(**kwargs):\n",
        "  for key, value in kwargs.items():\n",
        "    print(key,\":\", value)"
      ],
      "metadata": {
        "id": "IlhVqoW8tQMS"
      },
      "execution_count": 20,
      "outputs": []
    },
    {
      "cell_type": "code",
      "source": [
        "print_number(name=\"abrar\",age = 32,country =\"india\")"
      ],
      "metadata": {
        "colab": {
          "base_uri": "https://localhost:8080/"
        },
        "id": "ZoZ3dLCKtoax",
        "outputId": "e13b605f-73cc-4e82-d3ea-b248ea6a0a1b"
      },
      "execution_count": 21,
      "outputs": [
        {
          "output_type": "stream",
          "name": "stdout",
          "text": [
            "name : abrar\n",
            "age : 32\n",
            "country : india\n"
          ]
        }
      ]
    },
    {
      "cell_type": "code",
      "source": [
        "## use both\n",
        "def print_number(*args,**kwargs):\n",
        "  for numbers in args:\n",
        "    print(numbers)\n",
        "  for key, value in kwargs.items():\n",
        "    print(key,\":\", value)"
      ],
      "metadata": {
        "id": "QvL8gPkguH0v"
      },
      "execution_count": 22,
      "outputs": []
    },
    {
      "cell_type": "code",
      "source": [
        "print_number(10,20,30,40,name=\"abrar\",age = 32,country =\"india\")"
      ],
      "metadata": {
        "colab": {
          "base_uri": "https://localhost:8080/"
        },
        "id": "Vx33ICghucK3",
        "outputId": "48a34a52-4713-4559-e831-380aca9c5f42"
      },
      "execution_count": 23,
      "outputs": [
        {
          "output_type": "stream",
          "name": "stdout",
          "text": [
            "10\n",
            "20\n",
            "30\n",
            "40\n",
            "name : abrar\n",
            "age : 32\n",
            "country : india\n"
          ]
        }
      ]
    },
    {
      "cell_type": "code",
      "source": [
        "## return statement\n",
        "def multiply_function(a,b):\n",
        "  return a*b"
      ],
      "metadata": {
        "id": "0qPNRznfulYb"
      },
      "execution_count": 24,
      "outputs": []
    },
    {
      "cell_type": "code",
      "source": [
        "multiply_function(2,3)"
      ],
      "metadata": {
        "colab": {
          "base_uri": "https://localhost:8080/"
        },
        "id": "_e27uiCCu8r5",
        "outputId": "39c42a3c-9703-43f4-aab2-4291a4657664"
      },
      "execution_count": 25,
      "outputs": [
        {
          "output_type": "execute_result",
          "data": {
            "text/plain": [
              "6"
            ]
          },
          "metadata": {},
          "execution_count": 25
        }
      ]
    },
    {
      "cell_type": "code",
      "source": [],
      "metadata": {
        "id": "dLkqXNqmu_HK"
      },
      "execution_count": null,
      "outputs": []
    }
  ]
}