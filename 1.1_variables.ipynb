{
 "cells": [
  {
   "cell_type": "code",
   "execution_count": 1,
   "id": "fdcc30bb",
   "metadata": {},
   "outputs": [],
   "source": [
    "a =100\n"
   ]
  },
  {
   "cell_type": "code",
   "execution_count": 2,
   "id": "b86f4b34",
   "metadata": {},
   "outputs": [],
   "source": [
    "## declaring and assinging variables\n",
    "age =32\n",
    "height = 1.6\n",
    "name = \"abrar\"\n",
    "is_student= True\n"
   ]
  },
  {
   "cell_type": "code",
   "execution_count": 4,
   "id": "e309f3ca",
   "metadata": {},
   "outputs": [
    {
     "ename": "SyntaxError",
     "evalue": "invalid syntax. Maybe you meant '==' or ':=' instead of '='? (3137743239.py, line 6)",
     "output_type": "error",
     "traceback": [
      "\u001b[1;36m  Input \u001b[1;32mIn [4]\u001b[1;36m\u001b[0m\n\u001b[1;33m    @name =\"abrar\"\u001b[0m\n\u001b[1;37m     ^\u001b[0m\n\u001b[1;31mSyntaxError\u001b[0m\u001b[1;31m:\u001b[0m invalid syntax. Maybe you meant '==' or ':=' instead of '='?\n"
     ]
    }
   ],
   "source": [
    "# valid variable\n",
    "\n",
    "first_name = \"Tintoiya\"\n",
    "last_name = \"Abrar\"\n",
    "\n",
    "@name =\"abrar\"\n",
    "\n",
    "Name = name"
   ]
  },
  {
   "cell_type": "code",
   "execution_count": 5,
   "id": "d2244897",
   "metadata": {},
   "outputs": [
    {
     "name": "stdout",
     "output_type": "stream",
     "text": [
      "<class 'int'>\n"
     ]
    }
   ],
   "source": [
    "# type chaecking and conversion\n",
    "age =23\n",
    "name =\"abrar\"\n",
    "height = 6.1\n",
    "is_student = True\n",
    "\n",
    "print(type(age))\n",
    "\n"
   ]
  },
  {
   "cell_type": "code",
   "execution_count": 7,
   "id": "1d333652",
   "metadata": {},
   "outputs": [
    {
     "name": "stdout",
     "output_type": "stream",
     "text": [
      "<class 'str'>\n"
     ]
    }
   ],
   "source": [
    "str_age = str(age)\n",
    "print(type(str_age))"
   ]
  },
  {
   "cell_type": "code",
   "execution_count": 8,
   "id": "a25e8c1c",
   "metadata": {},
   "outputs": [
    {
     "ename": "ValueError",
     "evalue": "invalid literal for int() with base 10: 'abrar'",
     "output_type": "error",
     "traceback": [
      "\u001b[1;31m---------------------------------------------------------------------------\u001b[0m",
      "\u001b[1;31mValueError\u001b[0m                                Traceback (most recent call last)",
      "Input \u001b[1;32mIn [8]\u001b[0m, in \u001b[0;36m<cell line: 1>\u001b[1;34m()\u001b[0m\n\u001b[1;32m----> 1\u001b[0m \u001b[38;5;28;43mint\u001b[39;49m\u001b[43m(\u001b[49m\u001b[43mname\u001b[49m\u001b[43m)\u001b[49m\n",
      "\u001b[1;31mValueError\u001b[0m: invalid literal for int() with base 10: 'abrar'"
     ]
    }
   ],
   "source": [
    "int(name)"
   ]
  },
  {
   "cell_type": "code",
   "execution_count": 9,
   "id": "29863053",
   "metadata": {},
   "outputs": [
    {
     "data": {
      "text/plain": [
       "6"
      ]
     },
     "execution_count": 9,
     "metadata": {},
     "output_type": "execute_result"
    }
   ],
   "source": [
    "int(height)"
   ]
  },
  {
   "cell_type": "code",
   "execution_count": 10,
   "id": "29c38227",
   "metadata": {},
   "outputs": [
    {
     "data": {
      "text/plain": [
       "6.1"
      ]
     },
     "execution_count": 10,
     "metadata": {},
     "output_type": "execute_result"
    }
   ],
   "source": [
    "float(height)"
   ]
  },
  {
   "cell_type": "code",
   "execution_count": 11,
   "id": "2acfaa3d",
   "metadata": {},
   "outputs": [
    {
     "name": "stdout",
     "output_type": "stream",
     "text": [
      "10 <class 'int'>\n",
      "Hello <class 'str'>\n",
      "3.14 <class 'float'>\n"
     ]
    }
   ],
   "source": [
    "## Dynamic Typing\n",
    "var =10\n",
    "print(var,type(var))\n",
    "\n",
    "\n",
    "var = \"Hello\"\n",
    "print(var,type(var))\n",
    "\n",
    "var = 3.14\n",
    "print(var,type(var))"
   ]
  },
  {
   "cell_type": "code",
   "execution_count": 1,
   "id": "353e9f76",
   "metadata": {},
   "outputs": [
    {
     "name": "stdout",
     "output_type": "stream",
     "text": [
      "hello world\n"
     ]
    }
   ],
   "source": [
    "print(\"hello world\")"
   ]
  },
  {
   "cell_type": "code",
   "execution_count": 2,
   "id": "c1c81d15",
   "metadata": {},
   "outputs": [
    {
     "name": "stdout",
     "output_type": "stream",
     "text": [
      " <class 'str'>\n"
     ]
    }
   ],
   "source": [
    "name = input(\"what is your name\")\n",
    "print(name,type(name))"
   ]
  },
  {
   "cell_type": "code",
   "execution_count": 5,
   "id": "20fcbe77",
   "metadata": {},
   "outputs": [
    {
     "name": "stdout",
     "output_type": "stream",
     "text": [
      "sum: 35.0\n",
      "dif: -11.0\n",
      "prod: 276.0\n",
      "quo: 0.5217391304347826\n"
     ]
    }
   ],
   "source": [
    "#calculater\n",
    "num1 = float(input(\"first number:\"))\n",
    "num2 = float(input(\"second number\"))\n",
    "\n",
    "sum = num1 + num2\n",
    "dif = num1 - num2\n",
    "prod = num1 * num2\n",
    "quo = num1 / num2\n",
    "\n",
    "print(\"sum:\", sum)\n",
    "print(\"dif:\", dif)\n",
    "print(\"prod:\",prod)\n",
    "print(\"quo:\",quo)\n"
   ]
  },
  {
   "cell_type": "code",
   "execution_count": null,
   "id": "6665f1b2",
   "metadata": {},
   "outputs": [],
   "source": []
  }
 ],
 "metadata": {
  "kernelspec": {
   "display_name": "Python 3",
   "language": "python",
   "name": "python3"
  },
  "language_info": {
   "codemirror_mode": {
    "name": "ipython",
    "version": 3
   },
   "file_extension": ".py",
   "mimetype": "text/x-python",
   "name": "python",
   "nbconvert_exporter": "python",
   "pygments_lexer": "ipython3",
   "version": "3.10.4"
  }
 },
 "nbformat": 4,
 "nbformat_minor": 5
}
